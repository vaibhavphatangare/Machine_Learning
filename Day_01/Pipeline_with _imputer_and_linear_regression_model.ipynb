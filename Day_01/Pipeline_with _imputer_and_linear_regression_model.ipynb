{
 "cells": [
  {
   "cell_type": "code",
   "execution_count": 1,
   "id": "30240d93",
   "metadata": {},
   "outputs": [],
   "source": [
    "# Import necessary modules\n",
    "from sklearn.model_selection import train_test_split \n",
    "from sklearn.linear_model import LinearRegression \n",
    "from sklearn.impute import SimpleImputer\n",
    "from sklearn.pipeline import Pipeline\n",
    "from sklearn.metrics import r2_score\n",
    "import pandas as pd\n",
    "import numpy as np \n",
    "import os "
   ]
  },
  {
   "cell_type": "code",
   "execution_count": 2,
   "id": "434cb334",
   "metadata": {},
   "outputs": [
    {
     "name": "stdout",
     "output_type": "stream",
     "text": [
      "Yield                      0\n",
      "BiologicalMaterial01       0\n",
      "BiologicalMaterial02       0\n",
      "BiologicalMaterial03       0\n",
      "BiologicalMaterial04       0\n",
      "BiologicalMaterial05       0\n",
      "BiologicalMaterial06       0\n",
      "BiologicalMaterial07       0\n",
      "BiologicalMaterial08       0\n",
      "BiologicalMaterial09       0\n",
      "BiologicalMaterial10       0\n",
      "BiologicalMaterial11       0\n",
      "BiologicalMaterial12       0\n",
      "ManufacturingProcess01     1\n",
      "ManufacturingProcess02     3\n",
      "ManufacturingProcess03    15\n",
      "ManufacturingProcess04     1\n",
      "ManufacturingProcess05     1\n",
      "ManufacturingProcess06     2\n",
      "ManufacturingProcess07     1\n",
      "ManufacturingProcess08     1\n",
      "ManufacturingProcess09     0\n",
      "ManufacturingProcess10     9\n",
      "ManufacturingProcess11    10\n",
      "ManufacturingProcess12     1\n",
      "ManufacturingProcess13     0\n",
      "ManufacturingProcess14     1\n",
      "ManufacturingProcess15     0\n",
      "ManufacturingProcess16     0\n",
      "ManufacturingProcess17     0\n",
      "ManufacturingProcess18     0\n",
      "ManufacturingProcess19     0\n",
      "ManufacturingProcess20     0\n",
      "ManufacturingProcess21     0\n",
      "ManufacturingProcess22     1\n",
      "ManufacturingProcess23     1\n",
      "ManufacturingProcess24     1\n",
      "ManufacturingProcess25     5\n",
      "ManufacturingProcess26     5\n",
      "ManufacturingProcess27     5\n",
      "ManufacturingProcess28     5\n",
      "ManufacturingProcess29     5\n",
      "ManufacturingProcess30     5\n",
      "ManufacturingProcess31     5\n",
      "ManufacturingProcess32     0\n",
      "ManufacturingProcess33     5\n",
      "ManufacturingProcess34     5\n",
      "ManufacturingProcess35     5\n",
      "ManufacturingProcess36     5\n",
      "ManufacturingProcess37     0\n",
      "ManufacturingProcess38     0\n",
      "ManufacturingProcess39     0\n",
      "ManufacturingProcess40     1\n",
      "ManufacturingProcess41     1\n",
      "ManufacturingProcess42     0\n",
      "ManufacturingProcess43     0\n",
      "ManufacturingProcess44     0\n",
      "ManufacturingProcess45     0\n",
      "dtype: int64\n"
     ]
    }
   ],
   "source": [
    "# Change the current directory to the specified path\n",
    "os.chdir(r\"D:\\Datasets\")\n",
    "\n",
    "# Load the 'ChemicalProcess.csv' file into a pandas DataFrame\n",
    "chem = pd.read_csv(\"ChemicalProcess.csv\")\n",
    "\n",
    "# Print the number of missing values in each column of the DataFrame\n",
    "print(chem.isnull().sum())"
   ]
  },
  {
   "cell_type": "code",
   "execution_count": 4,
   "id": "b591f070",
   "metadata": {},
   "outputs": [
    {
     "name": "stdout",
     "output_type": "stream",
     "text": [
      "R-squared score:  0.23930185859422692\n"
     ]
    }
   ],
   "source": [
    "# Separate the target variable (Yield) from the input features\n",
    "X = chem.drop('Yield', axis=1)\n",
    "y = chem['Yield']\n",
    "\n",
    "# Split the data into training and testing sets\n",
    "X_train, X_test, y_train, y_test = train_test_split(X, y,test_size=0.3,random_state=24)\n",
    "\n",
    "# Define the imputer and linear regression models\n",
    "imp = SimpleImputer(strategy='mean')\n",
    "lr = LinearRegression()\n",
    "\n",
    "# Create a pipeline with the imputer and linear regression models\n",
    "pipe = Pipeline([('IMP', imp), ('LR', lr)])\n",
    "\n",
    "# Fit the pipeline to the training data\n",
    "pipe.fit(X_train, y_train)\n",
    "\n",
    "# Predict the test set using the trained pipeline\n",
    "y_pred = pipe.predict(X_test)\n",
    "\n",
    "# Calculate the R-squared score for the predictions\n",
    "print('R-squared score: ',r2_score(y_test, y_pred))"
   ]
  },
  {
   "cell_type": "code",
   "execution_count": null,
   "id": "27f6f09d",
   "metadata": {},
   "outputs": [],
   "source": []
  }
 ],
 "metadata": {
  "kernelspec": {
   "display_name": "Python 3 (ipykernel)",
   "language": "python",
   "name": "python3"
  },
  "language_info": {
   "codemirror_mode": {
    "name": "ipython",
    "version": 3
   },
   "file_extension": ".py",
   "mimetype": "text/x-python",
   "name": "python",
   "nbconvert_exporter": "python",
   "pygments_lexer": "ipython3",
   "version": "3.11.7"
  }
 },
 "nbformat": 4,
 "nbformat_minor": 5
}
