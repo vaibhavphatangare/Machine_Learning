{
 "cells": [
  {
   "cell_type": "code",
   "execution_count": 15,
   "id": "23457408-bdb1-4f76-926d-c577f22bd813",
   "metadata": {},
   "outputs": [],
   "source": [
    "from sklearn.linear_model import LogisticRegression,LinearRegression,Ridge,Lasso, ElasticNet\n",
    "from sklearn.model_selection import KFold, cross_val_score,GridSearchCV  #(cross_val_score ) is a function\n",
    "from sklearn.metrics import r2_score, mean_absolute_error\n",
    "from sklearn.model_selection import   train_test_split,StratifiedKFold,cross_val_score\n",
    "from sklearn.preprocessing import PolynomialFeatures,LabelEncoder\n",
    "from sklearn.preprocessing import OneHotEncoder\n",
    "from sklearn.metrics import *\n",
    "from sklearn.metrics import roc_curve\n",
    "import matplotlib.pyplot as plt\n",
    "import pandas as pd\n",
    "import numpy as np\n",
    "import os\n",
    "from sklearn.metrics import *\n"
   ]
  },
  {
   "cell_type": "code",
   "execution_count": 16,
   "id": "8f194081-7d45-4118-a20e-4a2be99db6b0",
   "metadata": {},
   "outputs": [
    {
     "data": {
      "text/html": [
       "<div>\n",
       "<style scoped>\n",
       "    .dataframe tbody tr th:only-of-type {\n",
       "        vertical-align: middle;\n",
       "    }\n",
       "\n",
       "    .dataframe tbody tr th {\n",
       "        vertical-align: top;\n",
       "    }\n",
       "\n",
       "    .dataframe thead th {\n",
       "        text-align: right;\n",
       "    }\n",
       "</style>\n",
       "<table border=\"1\" class=\"dataframe\">\n",
       "  <thead>\n",
       "    <tr style=\"text-align: right;\">\n",
       "      <th></th>\n",
       "      <th>Kyphosis</th>\n",
       "      <th>Age</th>\n",
       "      <th>Number</th>\n",
       "      <th>Start</th>\n",
       "    </tr>\n",
       "  </thead>\n",
       "  <tbody>\n",
       "    <tr>\n",
       "      <th>0</th>\n",
       "      <td>absent</td>\n",
       "      <td>71</td>\n",
       "      <td>3</td>\n",
       "      <td>5</td>\n",
       "    </tr>\n",
       "    <tr>\n",
       "      <th>1</th>\n",
       "      <td>absent</td>\n",
       "      <td>158</td>\n",
       "      <td>3</td>\n",
       "      <td>14</td>\n",
       "    </tr>\n",
       "    <tr>\n",
       "      <th>2</th>\n",
       "      <td>present</td>\n",
       "      <td>128</td>\n",
       "      <td>4</td>\n",
       "      <td>5</td>\n",
       "    </tr>\n",
       "    <tr>\n",
       "      <th>3</th>\n",
       "      <td>absent</td>\n",
       "      <td>2</td>\n",
       "      <td>5</td>\n",
       "      <td>1</td>\n",
       "    </tr>\n",
       "    <tr>\n",
       "      <th>4</th>\n",
       "      <td>absent</td>\n",
       "      <td>1</td>\n",
       "      <td>4</td>\n",
       "      <td>15</td>\n",
       "    </tr>\n",
       "    <tr>\n",
       "      <th>...</th>\n",
       "      <td>...</td>\n",
       "      <td>...</td>\n",
       "      <td>...</td>\n",
       "      <td>...</td>\n",
       "    </tr>\n",
       "    <tr>\n",
       "      <th>76</th>\n",
       "      <td>present</td>\n",
       "      <td>157</td>\n",
       "      <td>3</td>\n",
       "      <td>13</td>\n",
       "    </tr>\n",
       "    <tr>\n",
       "      <th>77</th>\n",
       "      <td>absent</td>\n",
       "      <td>26</td>\n",
       "      <td>7</td>\n",
       "      <td>13</td>\n",
       "    </tr>\n",
       "    <tr>\n",
       "      <th>78</th>\n",
       "      <td>absent</td>\n",
       "      <td>120</td>\n",
       "      <td>2</td>\n",
       "      <td>13</td>\n",
       "    </tr>\n",
       "    <tr>\n",
       "      <th>79</th>\n",
       "      <td>present</td>\n",
       "      <td>42</td>\n",
       "      <td>7</td>\n",
       "      <td>6</td>\n",
       "    </tr>\n",
       "    <tr>\n",
       "      <th>80</th>\n",
       "      <td>absent</td>\n",
       "      <td>36</td>\n",
       "      <td>4</td>\n",
       "      <td>13</td>\n",
       "    </tr>\n",
       "  </tbody>\n",
       "</table>\n",
       "<p>81 rows × 4 columns</p>\n",
       "</div>"
      ],
      "text/plain": [
       "   Kyphosis  Age  Number  Start\n",
       "0    absent   71       3      5\n",
       "1    absent  158       3     14\n",
       "2   present  128       4      5\n",
       "3    absent    2       5      1\n",
       "4    absent    1       4     15\n",
       "..      ...  ...     ...    ...\n",
       "76  present  157       3     13\n",
       "77   absent   26       7     13\n",
       "78   absent  120       2     13\n",
       "79  present   42       7      6\n",
       "80   absent   36       4     13\n",
       "\n",
       "[81 rows x 4 columns]"
      ]
     },
     "execution_count": 16,
     "metadata": {},
     "output_type": "execute_result"
    }
   ],
   "source": [
    "# Change the current working directory to \"D:\\Datasets\"\n",
    "os.chdir(r\"D:\\Datasets\")\n",
    "\n",
    "# Read the \"Kyphosis.csv\" file into a DataFrame named \"kyp\"\n",
    "kyp = pd.read_csv(\"Kyphosis.csv\")\n",
    "kyp"
   ]
  },
  {
   "cell_type": "code",
   "execution_count": 28,
   "id": "f08c017f",
   "metadata": {},
   "outputs": [],
   "source": [
    "# Encode the categorical variable 'Kyphosis' using LabelEncoder\n",
    "le = LabelEncoder()\n",
    "kyp['Kyphosis'] = le.fit_transform(kyp['Kyphosis'])\n",
    "\n",
    "# Extract the target variable \"y\" (Kyphosis) from the DataFrame\n",
    "y = kyp['Kyphosis']\n",
    "\n",
    "# Extract the feature variables \"x\" (all columns except 'Kyphosis') from the DataFrame\n",
    "x = kyp.drop('Kyphosis', axis=1)\n",
    "\n",
    "# Split the data into training and testing sets using train_test_split()\n",
    "# with a test size of 30% and stratified sampling based on the target variable (y)\n",
    "x_train, x_test, y_train, y_test = train_test_split(x, y, test_size=0.3, stratify=y, random_state=24)\n",
    "\n",
    "# Create a Logistic Regression model\n",
    "lr = LogisticRegression(penalty = None)\n",
    "\n",
    "# Train the model on the training data\n",
    "lr.fit(x_train,y_train)\n",
    "\n",
    "# Predict probabilities for the test data\n",
    "y_pred_proba = lr.predict_proba(x_test)\n"
   ]
  },
  {
   "cell_type": "markdown",
   "id": "c902d92f",
   "metadata": {},
   "source": [
    "# Plot"
   ]
  },
  {
   "cell_type": "code",
   "execution_count": 26,
   "id": "038b7cd6",
   "metadata": {},
   "outputs": [
    {
     "data": {
      "image/png": "[encoded data removed]",
      "text/plain": [
       "<Figure size 640x480 with 1 Axes>"
      ]
     },
     "metadata": {},
     "output_type": "display_data"
    }
   ],
   "source": [
    "# Calculate the ROC curve and area under the curve\n",
    "fpr, tpr, tres = roc_curve(y_test,y_pred_proba[:,1])\n",
    "plt.scatter(fpr,tpr,c = 'red')\n",
    "plt.plot(fpr,tpr,c='blue')\n",
    "plt.xlabel(\"1 - specificity\")\n",
    "plt.ylabel(\"Sensitivity\")\n",
    "plt.show()"
   ]
  },
  {
   "cell_type": "code",
   "execution_count": 34,
   "id": "f0a22523",
   "metadata": {},
   "outputs": [
    {
     "name": "stdout",
     "output_type": "stream",
     "text": [
      "Area under the curve:  0.81\n",
      "Log Loss Value 0.4614046499229198\n",
      "Area under the curve (cross-validation):  0.6806066176470589\n",
      "Log Loss Value (cross-validation) 7.119734002788573\n",
      "roc_auc:  0.878525641025641\n",
      "neg_log_loss:  -0.436546346292387\n"
     ]
    }
   ],
   "source": [
    "# Calculate the area under the curve\n",
    "print('Area under the curve: ',roc_auc_score(y_test,y_pred_proba[:,1]))\n",
    "\n",
    "# Calculate the log loss\n",
    "print('Log Loss Value',log_loss(y_test, y_pred_proba[:,1]))\n",
    "\n",
    "# Perform cross-validation for the model\n",
    "kfold = StratifiedKFold(n_splits=5,shuffle=True,random_state=24)\n",
    "print('Area under the curve (cross-validation): ',roc_auc_score(y, lr.predict(x), multi_class='ovr', average='macro', labels=le.classes_))\n",
    "\n",
    "# Calculate the log loss for cross-validation\n",
    "print('Log Loss Value (cross-validation)',log_loss(y, lr.predict(x), normalize=True))\n",
    "\n",
    "# Calculate the mean of the cross-validation scores\n",
    "results = cross_val_score(lr,x,y,cv=kfold,scoring='roc_auc')\n",
    "print('roc_auc: ',results.mean())\n",
    "\n",
    "results = cross_val_score(lr,x,y,cv=kfold,scoring='neg_log_loss')\n",
    "print('neg_log_loss: ',results.mean())\n"
   ]
  },
  {
   "cell_type": "markdown",
   "id": "3d0901c9",
   "metadata": {},
   "source": [
    "# GridSearchCV"
   ]
  },
  {
   "cell_type": "code",
   "execution_count": 23,
   "id": "e09c9648-dee3-4606-9c43-06a35c5b5d13",
   "metadata": {},
   "outputs": [
    {
     "name": "stdout",
     "output_type": "stream",
     "text": [
      "{'C': 1.0535263157894736, 'penalty': 'l2', 'solver': 'sag'}\n",
      "-0.4130989594007938\n"
     ]
    }
   ],
   "source": [
    "# Perform grid search for hyperparameter tuning\n",
    "warnings.simplefilter('ignore')\n",
    "\n",
    "params= {'penalty':['l2',None],'C':np.linspace(0.001,10,20),\n",
    "        'solver':['lbfgs','newton-cg','newton-cholesky','sag']}\n",
    "\n",
    "lr= LogisticRegression()\n",
    "kfold = StratifiedKFold(n_splits=5,shuffle=True,random_state=24)\n",
    "gcv = GridSearchCV(lr,param_grid=params,cv =kfold,scoring='neg_log_loss')\n",
    "gcv.fit(x,y)\n",
    "\n",
    "print(gcv.best_params_)\n",
    "print(gcv.best_score_)\n"
   ]
  },
  {
   "cell_type": "code",
   "execution_count": null,
   "id": "2cc3f6a2",
   "metadata": {},
   "outputs": [],
   "source": []
  }
 ],
 "metadata": {
  "kernelspec": {
   "display_name": "Python 3 (ipykernel)",
   "language": "python",
   "name": "python3"
  },
  "language_info": {
   "codemirror_mode": {
    "name": "ipython",
    "version": 3
   },
   "file_extension": ".py",
   "mimetype": "text/x-python",
   "name": "python",
   "nbconvert_exporter": "python",
   "pygments_lexer": "ipython3",
   "version": "3.11.7"
  }
 },
 "nbformat": 4,
 "nbformat_minor": 5
}
