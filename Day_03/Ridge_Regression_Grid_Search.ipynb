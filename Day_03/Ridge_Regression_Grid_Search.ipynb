{
 "cells": [
  {
   "cell_type": "code",
   "execution_count": 18,
   "id": "4d1dd4b4-788f-417e-b1fa-978f4dab62b0",
   "metadata": {},
   "outputs": [],
   "source": [
    "from sklearn.linear_model import LinearRegression,Ridge,Lasso, ElasticNet\n",
    "from sklearn.model_selection import KFold, cross_val_score,GridSearchCV ,StratifiedKFold#(cross_val_score ) is a function\n",
    "from sklearn.metrics import r2_score, mean_absolute_error\n",
    "from sklearn.preprocessing import PolynomialFeatures\n",
    "from sklearn.preprocessing import OneHotEncoder\n",
    "from sklearn.metrics import mean_squared_error\n",
    "import pandas as pd\n",
    "import numpy as np\n",
    "import warnings\n",
    "import os"
   ]
  },
  {
   "cell_type": "code",
   "execution_count": 20,
   "id": "7a54a9af-d3de-4f16-93ef-9a33818ca226",
   "metadata": {},
   "outputs": [
    {
     "name": "stdout",
     "output_type": "stream",
     "text": [
      "Best Parameters: {'alpha': 7.0}\n",
      "Best Score: 0.6422878896014039\n"
     ]
    }
   ],
   "source": [
    "# Ignore warnings\n",
    "warnings.simplefilter(\"ignore\")\n",
    "\n",
    "# Change directory to the dataset location\n",
    "os.chdir(r\"D:\\Datasets\")\n",
    "\n",
    "\n",
    "# Read the CSV data\n",
    "df = pd.read_csv(\"Housing.csv\")\n",
    "\n",
    "# Encode categorical features using one-hot encoding\n",
    "dum_df = pd.get_dummies(df, drop_first=True)\n",
    "\n",
    "# Separate features (X) and target variable (y)\n",
    "x = dum_df.drop(['price'], axis=1)\n",
    "y = dum_df['price']\n",
    "\n",
    "# Define a KFold object with 5 folds\n",
    "kfold = StratifiedKFold(n_splits=5, shuffle=True, random_state=24)\n",
    "\n",
    "# Define the parameter grid for the grid search\n",
    "alphas = np.arange(0, 10, 0.25)\n",
    "params = {'alpha': alphas}\n",
    "\n",
    "# Create a Ridge Regression model\n",
    "ridge = Ridge()\n",
    "\n",
    "# Perform grid search cross-validation\n",
    "gcv_r = GridSearchCV(ridge, param_grid=params, cv=kfold, scoring='r2')\n",
    "gcv_r.fit(x, y)\n",
    "\n",
    "# Print the best parameters and the best score\n",
    "print(\"Best Parameters:\", gcv_r.best_params_)\n",
    "print(\"Best Score:\", gcv_r.best_score_)\n"
   ]
  },
  {
   "cell_type": "code",
   "execution_count": null,
   "id": "4dedc48c-59fc-4d9a-8abd-a7d790cf76bf",
   "metadata": {},
   "outputs": [],
   "source": []
  },
  {
   "cell_type": "code",
   "execution_count": null,
   "id": "b247d83b",
   "metadata": {},
   "outputs": [],
   "source": []
  }
 ],
 "metadata": {
  "kernelspec": {
   "display_name": "Python 3 (ipykernel)",
   "language": "python",
   "name": "python3"
  },
  "language_info": {
   "codemirror_mode": {
    "name": "ipython",
    "version": 3
   },
   "file_extension": ".py",
   "mimetype": "text/x-python",
   "name": "python",
   "nbconvert_exporter": "python",
   "pygments_lexer": "ipython3",
   "version": "3.11.7"
  }
 },
 "nbformat": 4,
 "nbformat_minor": 5
}
