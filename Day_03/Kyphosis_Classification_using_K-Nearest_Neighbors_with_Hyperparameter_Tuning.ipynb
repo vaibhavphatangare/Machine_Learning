{
 "cells": [
  {
   "cell_type": "code",
   "execution_count": 4,
   "id": "3f315928",
   "metadata": {},
   "outputs": [],
   "source": [
    "import pandas as pd\n",
    "from sklearn.neighbors import KNeighborsClassifier\n",
    "from sklearn.model_selection import train_test_split\n",
    "from sklearn.metrics import confusion_matrix \n",
    "from sklearn.metrics import accuracy_score \n",
    "from sklearn.metrics import classification_report\n",
    "from sklearn.model_selection import GridSearchCV \n",
    "from sklearn.model_selection import StratifiedKFold\n",
    "import warnings\n",
    "import os \n",
    "\n",
    "warnings.simplefilter('ignore')"
   ]
  },
  {
   "cell_type": "code",
   "execution_count": 10,
   "id": "a91fdfea",
   "metadata": {},
   "outputs": [
    {
     "name": "stdout",
     "output_type": "stream",
     "text": [
      "[[20  0]\n",
      " [ 5  0]]\n",
      "0.8\n",
      "              precision    recall  f1-score   support\n",
      "\n",
      "      absent       0.80      1.00      0.89        20\n",
      "     present       0.00      0.00      0.00         5\n",
      "\n",
      "    accuracy                           0.80        25\n",
      "   macro avg       0.40      0.50      0.44        25\n",
      "weighted avg       0.64      0.80      0.71        25\n",
      "\n"
     ]
    }
   ],
   "source": [
    "# Change the current working directory to \"D:\\Datasets\"\n",
    "os.chdir(\"D:\\Datasets\")\n",
    "\n",
    "# Load the Kyphosis dataset\n",
    "kyp = pd.read_csv(\"Kyphosis.csv\")\n",
    "\n",
    "# Extract the target variable \"y\" (Kyphosis) from the DataFrame\n",
    "y = kyp['Kyphosis']\n",
    "\n",
    "# Extract the feature variables \"X\" (all columns except 'Kyphosis') from the DataFrame\n",
    "X = kyp.drop('Kyphosis', axis=1)\n",
    "\n",
    "# Split the data into training and testing sets\n",
    "X_train, X_test, y_train, y_test = train_test_split(X, y,\n",
    "                                   test_size=0.3,stratify=y,\n",
    "                                   random_state=24)\n",
    "\n",
    "# Create a K-Nearest Neighbors (KNN) classifier\n",
    "knn = KNeighborsClassifier(n_neighbors=5)\n",
    "\n",
    "# Train the model on the training data\n",
    "knn.fit(X_train, y_train)\n",
    "\n",
    "# Make predictions on the test data\n",
    "y_pred = knn.predict(X_test)\n",
    "\n",
    "# Print the confusion matrix\n",
    "print(confusion_matrix(y_test, y_pred))\n",
    "\n",
    "# Print the accuracy score\n",
    "print(accuracy_score(y_test, y_pred))\n",
    "\n",
    "# Print the classification report\n",
    "print(classification_report(y_test, y_pred))\n"
   ]
  },
  {
   "cell_type": "markdown",
   "id": "301a1493",
   "metadata": {},
   "source": [
    " # GridSearchCV"
   ]
  },
  {
   "cell_type": "code",
   "execution_count": 9,
   "id": "228c536f",
   "metadata": {},
   "outputs": [
    {
     "name": "stdout",
     "output_type": "stream",
     "text": [
      "{'n_neighbors': 7}\n",
      "0.8029411764705883\n"
     ]
    }
   ],
   "source": [
    "# Perform grid search for hyperparameter tuning\n",
    "params = {'n_neighbors':[1,2,3,4,5,6,7,8,9,10]}\n",
    "\n",
    "# Create a KNN classifier\n",
    "knn = KNeighborsClassifier()\n",
    "\n",
    "# Perform grid search with 5-fold cross-validation\n",
    "kfold = StratifiedKFold(n_splits=5, \n",
    "                        shuffle=True, random_state=24)\n",
    "gcv = GridSearchCV(knn, param_grid=params, cv=kfold,\n",
    "                   scoring='accuracy')\n",
    "gcv.fit(X, y)\n",
    "\n",
    "# Print the best parameters and the best score\n",
    "print(gcv.best_params_)\n",
    "print(gcv.best_score_)"
   ]
  },
  {
   "cell_type": "code",
   "execution_count": null,
   "id": "f3b473e5",
   "metadata": {},
   "outputs": [],
   "source": []
  },
  {
   "cell_type": "code",
   "execution_count": null,
   "id": "287fa151",
   "metadata": {},
   "outputs": [],
   "source": []
  }
 ],
 "metadata": {
  "kernelspec": {
   "display_name": "Python 3 (ipykernel)",
   "language": "python",
   "name": "python3"
  },
  "language_info": {
   "codemirror_mode": {
    "name": "ipython",
    "version": 3
   },
   "file_extension": ".py",
   "mimetype": "text/x-python",
   "name": "python",
   "nbconvert_exporter": "python",
   "pygments_lexer": "ipython3",
   "version": "3.11.7"
  }
 },
 "nbformat": 4,
 "nbformat_minor": 5
}
