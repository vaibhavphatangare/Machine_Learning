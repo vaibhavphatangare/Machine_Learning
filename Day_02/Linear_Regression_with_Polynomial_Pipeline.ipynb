{
 "cells": [
  {
   "cell_type": "code",
   "execution_count": 20,
   "id": "8a096d01-8717-4c0f-9372-0fafcd68fb73",
   "metadata": {},
   "outputs": [
    {
     "name": "stdout",
     "output_type": "stream",
     "text": [
      "R-squared score (Linear Regression) 0.23930185859422692\n"
     ]
    }
   ],
   "source": [
    "from sklearn.preprocessing import PolynomialFeatures\n",
    "from sklearn.model_selection import train_test_split \n",
    "from sklearn.impute import SimpleImputer\n",
    "from sklearn.linear_model import Ridge\n",
    "from sklearn.metrics import r2_score\n",
    "import pandas as pd\n",
    "import numpy as np \n",
    "import os \n",
    "\n",
    "# Change directory to your dataset location (if necessary)\n",
    "os.chdir(r\"D:\\Datasets\")\n",
    "\n",
    "# Read the CSV data\n",
    "chem = pd.read_csv(\"ChemicalProcess.csv\")\n",
    "\n",
    "# Optional: Print missing value counts\n",
    "# print(chem.isnull().sum()) \n",
    "\n",
    "# Separate features (X) and target variable (y)\n",
    "X = chem.drop('Yield', axis=1)\n",
    "y = chem['Yield']\n",
    "\n",
    "# Split data into training and testing sets\n",
    "X_train, X_test, y_train, y_test = train_test_split(X, y,\n",
    "                                   test_size=0.3,\n",
    "                                   random_state=24)\n",
    "\n",
    "# Create the imputer\n",
    "imp = SimpleImputer(strategy='mean').set_output(transform='pandas')  \n",
    "#The set_output method in scikit-learn is used to configure the output data \n",
    "#container of transformers to be a pandas DataFrame, instead of the default NumPy array.\n",
    "\n",
    "# Create a model with linear regression \n",
    "X_trn_imp = imp.fit_transform(X_train)\n",
    "lr = LinearRegression()\n",
    "lr.fit(X_trn_imp, y_train)\n",
    "\n",
    "# Test set Operations\n",
    "X_tst_imp = imp.transform(X_test)\n",
    "y_pred = lr.predict(X_tst_imp)\n",
    "print('R-squared score (Linear Regression)',r2_score(y_test, y_pred))\n"
   ]
  },
  {
   "cell_type": "code",
   "execution_count": 21,
   "id": "bc2bd8bf-6461-402f-a6e4-3ba189e4b867",
   "metadata": {},
   "outputs": [
    {
     "name": "stdout",
     "output_type": "stream",
     "text": [
      "R-squared score (Linear Regression) using Pipeline:  0.23930185859422692\n"
     ]
    }
   ],
   "source": [
    "\n",
    "#another way to solve this problem with Pipeline  (Linear_Regression_with_Polynomial_Pipeline)\n",
    "poly = PolynomialFeatures(degree = 2)\n",
    "pipe =Pipeline([('IMP',imp),('POLY',imp),('LR',lr)])\n",
    "pipe.fit(X_train,y_train)\n",
    "y_pred = pipe.predict(X_test)\n",
    "print('R-squared score (Linear Regression) using Pipeline: ',r2_score(y_test, y_pred))"
   ]
  },
  {
   "cell_type": "code",
   "execution_count": null,
   "id": "c7e29430-9782-437b-bac9-71a98a002ca9",
   "metadata": {},
   "outputs": [],
   "source": []
  }
 ],
 "metadata": {
  "kernelspec": {
   "display_name": "Python 3 (ipykernel)",
   "language": "python",
   "name": "python3"
  },
  "language_info": {
   "codemirror_mode": {
    "name": "ipython",
    "version": 3
   },
   "file_extension": ".py",
   "mimetype": "text/x-python",
   "name": "python",
   "nbconvert_exporter": "python",
   "pygments_lexer": "ipython3",
   "version": "3.11.7"
  }
 },
 "nbformat": 4,
 "nbformat_minor": 5
}
