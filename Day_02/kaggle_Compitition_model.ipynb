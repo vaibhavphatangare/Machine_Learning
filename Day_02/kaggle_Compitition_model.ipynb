{
 "cells": [
  {
   "cell_type": "code",
   "execution_count": 47,
   "id": "0a98540f-02db-4eb3-86c3-4d41396706da",
   "metadata": {},
   "outputs": [],
   "source": [
    "# Import necessary libraries\n",
    "from sklearn.linear_model import Ridge, Lasso, ElasticNet\n",
    "from sklearn.metrics import r2_score, mean_absolute_error\n",
    "from sklearn.linear_model import LinearRegression\n",
    "from sklearn.model_selection import GridSearchCV\n",
    "from sklearn.metrics import mean_squared_error\n",
    "from sklearn.model_selection import KFold\n",
    "import pandas as pd\n",
    "import numpy as np\n",
    "import warnings\n",
    "import os"
   ]
  },
  {
   "cell_type": "code",
   "execution_count": 48,
   "id": "6834b0e6-9df2-4d8b-b7bb-3315ad0c3a1a",
   "metadata": {},
   "outputs": [],
   "source": [
    "# Ignore warnings\n",
    "warnings.simplefilter(\"ignore\")\n",
    "\n",
    "# Change the current working directory to \"D:\\Datasets\"\n",
    "os.chdir(r\"D:\\Datasets\")\n",
    "\n",
    "# Load the training data into a DataFrame named \"mohs\"\n",
    "mohs = pd.read_csv(\"train.csv\", index_col=0)\n",
    "\n",
    "# Extract the feature variables \"X\" (all columns except 'Hardness') and the target variable \"y\" (Hardness)\n",
    "X = mohs.drop('Hardness', axis=1)\n",
    "y = mohs['Hardness']"
   ]
  },
  {
   "cell_type": "code",
   "execution_count": 49,
   "id": "a073dff3-d305-4387-a2f1-21f7726abad5",
   "metadata": {},
   "outputs": [
    {
     "name": "stdout",
     "output_type": "stream",
     "text": [
      "{'alpha': 0.25}\n",
      "0.24214792962324613\n"
     ]
    }
   ],
   "source": [
    "# Define the hyperparameter grid for Ridge regression\n",
    "alphas = np.arange(0, 10, 0.25)\n",
    "params = {'alpha': alphas}\n",
    "\n",
    "# Define the Ridge regression model\n",
    "ridge = Ridge()\n",
    "\n",
    "# Define the k-fold cross-validation object\n",
    "kfold = KFold(n_splits=5, shuffle=True, random_state=24)\n",
    "\n",
    "# Perform grid search for Ridge regression\n",
    "gcv_r = GridSearchCV(ridge, param_grid=params, cv=kfold)\n",
    "gcv_r.fit(X, y)\n",
    "\n",
    "# Print the best hyperparameters and the best score for Ridge regression\n",
    "print(gcv_r.best_params_)\n",
    "print(gcv_r.best_score_)"
   ]
  },
  {
   "cell_type": "code",
   "execution_count": 50,
   "id": "ebf29b2a-0580-402b-b728-ef148194af4a",
   "metadata": {},
   "outputs": [
    {
     "name": "stdout",
     "output_type": "stream",
     "text": [
      "{'alpha': 0.0}\n",
      "0.24214703163526088\n"
     ]
    }
   ],
   "source": [
    "# Define the Lasso regression model\n",
    "lasso = Lasso()\n",
    "\n",
    "# Perform grid search for Lasso regression\n",
    "gcv_l = GridSearchCV(lasso, param_grid=params, cv=kfold)\n",
    "gcv_l.fit(X, y)\n",
    "\n",
    "# Print the best hyperparameters and the best score for Lasso regression\n",
    "print(gcv_l.best_params_)\n",
    "print(gcv_l.best_score_)\n"
   ]
  },
  {
   "cell_type": "code",
   "execution_count": 51,
   "id": "320c9022-81a1-4a12-ab9b-419ca43df290",
   "metadata": {},
   "outputs": [
    {
     "name": "stdout",
     "output_type": "stream",
     "text": [
      "{'alpha': 0.0, 'l1_ratio': 0.0}\n",
      "0.24214703163526088\n"
     ]
    }
   ],
   "source": [
    "# Define the Elastic Net regression model\n",
    "el = ElasticNet()\n",
    "\n",
    "# Define the hyperparameter grid for Elastic Net regression\n",
    "alphas = np.arange(0, 10, 0.25)\n",
    "l1 = np.arange(0, 1, 0.1)\n",
    "params = {'alpha': alphas, 'l1_ratio': l1}\n",
    "\n",
    "# Perform grid search for Elastic Net regression\n",
    "gcv_el = GridSearchCV(el, param_grid=params, cv=kfold)\n",
    "gcv_el.fit(X, y)\n",
    "\n",
    "# Print the best hyperparameters and the best score for Elastic Net regression\n",
    "print(gcv_el.best_params_)\n",
    "print(gcv_el.best_score_)"
   ]
  },
  {
   "cell_type": "code",
   "execution_count": 52,
   "id": "001bd4b7-7cb9-4d26-91a7-a81adcfc7199",
   "metadata": {},
   "outputs": [],
   "source": [
    "# Inferencing\n",
    "# Use the best Ridge regression model for making predictions\n",
    "best_model = gcv_r.best_estimator_\n",
    "\n",
    "# Load the test data into a DataFrame named \"test\"\n",
    "test = pd.read_csv(\"test.csv\", index_col=0)\n",
    "\n",
    "# Make predictions using the best Ridge regression model\n",
    "pred_hard = best_model.predict(test)\n",
    "\n",
    "# Load the sample submission file into a DataFrame named \"submit\"\n",
    "submit = pd.read_csv(\"sample_submission.csv\")\n",
    "\n",
    "# Replace the predicted hardness values in the submission file\n",
    "submit['Hardness'] = pred_hard\n",
    "\n",
    "# Save the submission file with the predicted hardness values\n",
    "submit.to_csv(\"sbt_rg_19_jun.csv\", index=False)"
   ]
  }
 ],
 "metadata": {
  "kernelspec": {
   "display_name": "Python 3 (ipykernel)",
   "language": "python",
   "name": "python3"
  },
  "language_info": {
   "codemirror_mode": {
    "name": "ipython",
    "version": 3
   },
   "file_extension": ".py",
   "mimetype": "text/x-python",
   "name": "python",
   "nbconvert_exporter": "python",
   "pygments_lexer": "ipython3",
   "version": "3.11.7"
  }
 },
 "nbformat": 4,
 "nbformat_minor": 5
}
