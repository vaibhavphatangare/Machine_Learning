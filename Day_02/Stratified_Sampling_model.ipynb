{
 "cells": [
  {
   "cell_type": "code",
   "execution_count": 55,
   "id": "723fbe19-6491-45e9-a653-a529f0d5d9d5",
   "metadata": {},
   "outputs": [],
   "source": [
    "from sklearn.linear_model import LogisticRegression,LinearRegression,Ridge,Lasso, ElasticNet\n",
    "from sklearn.model_selection import KFold, cross_val_score,GridSearchCV  #(cross_val_score ) is a function\n",
    "from sklearn.metrics import r2_score, mean_absolute_error\n",
    "from sklearn.model_selection import   train_test_split\n",
    "from sklearn.preprocessing import PolynomialFeatures\n",
    "from sklearn.preprocessing import OneHotEncoder\n",
    "from sklearn.metrics import mean_squared_error\n",
    "import pandas as pd\n",
    "import numpy as np\n",
    "import os"
   ]
  },
  {
   "cell_type": "code",
   "execution_count": 54,
   "id": "0d36c936-cdbb-4fd7-b5b8-07f255920bce",
   "metadata": {},
   "outputs": [
    {
     "name": "stdout",
     "output_type": "stream",
     "text": [
      "Kyphosis\n",
      "absent     44\n",
      "present    12\n",
      "Name: count, dtype: int64\n",
      "Kyphosis\n",
      "absent     79.012346\n",
      "present    20.987654\n",
      "Name: proportion, dtype: float64\n",
      "Kyphosis\n",
      "absent     44\n",
      "present    12\n",
      "Name: count, dtype: int64\n",
      "Kyphosis\n",
      "absent     80.0\n",
      "present    20.0\n",
      "Name: proportion, dtype: float64\n",
      "['absent' 'present' 'absent' 'present' 'absent' 'absent' 'absent' 'absent'\n",
      " 'absent' 'present' 'absent' 'absent' 'present' 'absent' 'absent'\n",
      " 'present' 'absent' 'absent' 'absent' 'absent' 'absent' 'absent' 'absent'\n",
      " 'present' 'present']\n"
     ]
    }
   ],
   "source": [
    "# Change the current working directory to \"D:\\Python_Exam\"\n",
    "os.chdir(r\"D:\\Python_Exam\")\n",
    "\n",
    "# Read the \"Kyphosis.csv\" file into a DataFrame named \"kyp\"\n",
    "kyp = pd.read_csv(\"Kyphosis.csv\")\n",
    "\n",
    "# Extract the target variable \"y\" (Kyphosis) from the DataFrame\n",
    "y = kyp['Kyphosis']\n",
    "\n",
    "# Extract the feature variables \"x\" (all columns except 'Kyphosis') from the DataFrame\n",
    "x = kyp.drop('Kyphosis', axis=1)\n",
    "\n",
    "# Print the value counts of the target variable \"y\"\n",
    "print(y_train.value_counts())\n",
    "\n",
    "# Print the normalized value counts of the target variable \"y\" (as a percentage)\n",
    "print(y.value_counts(normalize=True) * 100)\n",
    "\n",
    "# Split the data into training and testing sets using train_test_split()\n",
    "# with a test size of 30% and stratified sampling based on the target variable (y)\n",
    "x_train, x_test, y_train, y_test = train_test_split(x, y, test_size=0.3, stratify=y, random_state=24)\n",
    "\n",
    "# Print the value counts of the target variable \"y\" in the training set\n",
    "print(y_train.value_counts())\n",
    "\n",
    "# Print the normalized value counts of the target variable \"y\" in the testing set (as a percentage)\n",
    "print(y_test.value_counts(normalize=True) * 100)\n",
    "\n",
    "# Initialize a Logistic Regression model\n",
    "lr = LogisticRegression()\n",
    "\n",
    "# Fit the model to the training data\n",
    "lr.fit(x_train, y_train)\n",
    "\n",
    "# Generate predicted probabilities for the test data\n",
    "y_pred_prob = lr.predict_proba(x_test)\n",
    "\n",
    "# Generate predicted labels for the test data\n",
    "y_pred = lr.predict(x_test)\n",
    "\n",
    "# Print the predicted labels\n",
    "print(y_pred)"
   ]
  }
 ],
 "metadata": {
  "kernelspec": {
   "display_name": "Python 3 (ipykernel)",
   "language": "python",
   "name": "python3"
  },
  "language_info": {
   "codemirror_mode": {
    "name": "ipython",
    "version": 3
   },
   "file_extension": ".py",
   "mimetype": "text/x-python",
   "name": "python",
   "nbconvert_exporter": "python",
   "pygments_lexer": "ipython3",
   "version": "3.11.7"
  }
 },
 "nbformat": 4,
 "nbformat_minor": 5
}
