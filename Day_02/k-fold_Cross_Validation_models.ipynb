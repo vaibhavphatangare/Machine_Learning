{
 "cells": [
  {
   "cell_type": "code",
   "execution_count": 115,
   "id": "22c06b41-e19c-4821-9798-01a7c1e30ba6",
   "metadata": {},
   "outputs": [],
   "source": [
    "# Import necessary libraries\n",
    "from sklearn.linear_model import LinearRegression,Ridge,Lasso, ElasticNet\n",
    "from sklearn.model_selection import KFold, cross_val_score,GridSearchCV #(cross_val_score ) is a function\n",
    "from sklearn.metrics import r2_score, mean_absolute_error\n",
    "from sklearn.preprocessing import PolynomialFeatures\n",
    "from sklearn.preprocessing import OneHotEncoder\n",
    "from sklearn.metrics import mean_squared_error\n",
    "import pandas as pd\n",
    "import numpy as np\n",
    "import warnings\n",
    "import os\n",
    "\n",
    "# Ignore warnings\n",
    "warnings.simplefilter(\"ignore\")\n",
    "\n",
    "# Change directory to the dataset location\n",
    "os.chdir(r\"D:\\Datasets\")\n",
    "\n",
    "# Read the CSV data\n",
    "df = pd.read_csv(\"Housing.csv\")\n",
    "\n",
    "# Encode categorical features using one-hot encoding\n",
    "dum_df = pd.get_dummies(df, drop_first=True)\n",
    "\n",
    "# Separate features (X) and target variable (y)\n",
    "x = dum_df.drop(['price'], axis=1)\n",
    "y = dum_df['price']\n",
    "\n",
    "# Define a KFold object with 5 folds\n",
    "kfold = KFold(n_splits=5, shuffle=True,random_state=24)\n"
   ]
  },
  {
   "cell_type": "code",
   "execution_count": 114,
   "id": "e18fcc90-f272-4918-9baa-886c6a68de66",
   "metadata": {},
   "outputs": [
    {
     "name": "stdout",
     "output_type": "stream",
     "text": [
      "Average r-square:  0.6570808836039296\n"
     ]
    }
   ],
   "source": [
    "# Create a Linear Regression model\n",
    "lr = LinearRegression()\n",
    "\n",
    "# Perform K-fold cross-validation on the Linear Regression model\n",
    "results = cross_val_score(lr, x, y, cv=kfold)\n",
    "\n",
    "# Print the average R-squared score\n",
    "print(\"Average r-square: \", results.mean())"
   ]
  },
  {
   "cell_type": "code",
   "execution_count": 116,
   "id": "ec407ea0-9961-45d0-81d1-72e4e449006d",
   "metadata": {},
   "outputs": [
    {
     "name": "stdout",
     "output_type": "stream",
     "text": [
      "Average r-square:  0.6573979310546161\n"
     ]
    }
   ],
   "source": [
    "# Create a Ridge Regression model\n",
    "ridge = Ridge()\n",
    "\n",
    "# Perform K-fold cross-validation on the Ridge Regression model\n",
    "results = cross_val_score(ridge, x, y, cv=kfold)\n",
    "\n",
    "# Print the average R-squared score\n",
    "print(\"Average r-square: \", results.mean())"
   ]
  },
  {
   "cell_type": "code",
   "execution_count": 117,
   "id": "77d7f47d-ff95-459e-8f39-5f753d8c05cb",
   "metadata": {},
   "outputs": [
    {
     "name": "stdout",
     "output_type": "stream",
     "text": [
      "Average r-square:  0.6570821806267306\n"
     ]
    }
   ],
   "source": [
    "# Create a Lasso Regression model\n",
    "lasso = Lasso()\n",
    "\n",
    "# Perform K-fold cross-validation on the Lasso Regression model\n",
    "results = cross_val_score(lasso, x, y, cv=kfold)\n",
    "\n",
    "# Print the average R-squared score\n",
    "print(\"Average r-square: \", results.mean())"
   ]
  },
  {
   "cell_type": "code",
   "execution_count": 118,
   "id": "b548a92c-541a-49bb-ac46-751931d4c776",
   "metadata": {},
   "outputs": [
    {
     "name": "stdout",
     "output_type": "stream",
     "text": [
      "Average r-square:  0.5674905101968157\n"
     ]
    }
   ],
   "source": [
    "# Create an Elastic Net Regression model\n",
    "el = ElasticNet()\n",
    "\n",
    "# Perform K-fold cross-validation on the Elastic Net Regression model\n",
    "results = cross_val_score(el, x, y, cv=kfold)\n",
    "\n",
    "# Print the average R-squared score\n",
    "print(\"Average r-square: \", results.mean())"
   ]
  },
  {
   "cell_type": "code",
   "execution_count": 119,
   "id": "d7490791-bd8a-4ce9-be0f-cd97cb63230e",
   "metadata": {},
   "outputs": [
    {
     "name": "stdout",
     "output_type": "stream",
     "text": [
      "Best alpha:  4.0\n",
      "Best score:  0.6577381120548891\n"
     ]
    }
   ],
   "source": [
    "# Define a range of alpha values to try for Ridge regression\n",
    "alphas = np.arange(0, 10, 0.25)\n",
    "\n",
    "# Initialize a list to store the scores\n",
    "scores = []\n",
    "\n",
    "# Iterate through the range of alpha values\n",
    "for i in alphas:\n",
    "    # Create a Ridge Regression model instance with the current alpha value\n",
    "    ridge = Ridge(alpha=i)\n",
    "    \n",
    "    # Perform cross-validation on the Ridge Regression model\n",
    "    results = cross_val_score(ridge, x, y, cv=kfold)\n",
    "    \n",
    "    # Append the mean of the cross-validation scores to the scores list\n",
    "    scores.append(results.mean())\n",
    "\n",
    "# Find the index of the best alpha value\n",
    "i_max = np.argmax(scores)\n",
    "\n",
    "# Print the best alpha value and the corresponding best score\n",
    "print(\"Best alpha: \", alphas[i_max])\n",
    "print(\"Best score: \", scores[i_max])"
   ]
  },
  {
   "cell_type": "code",
   "execution_count": 120,
   "id": "0c9d2508-71a8-48c4-8b61-156f66eb5e96",
   "metadata": {},
   "outputs": [
    {
     "name": "stdout",
     "output_type": "stream",
     "text": [
      "Best alpha:  0.0\n",
      "Best score:  0.6570808836039296\n"
     ]
    }
   ],
   "source": [
    "# Ignore warnings\n",
    "import warnings\n",
    "warnings.simplefilter(\"ignore\")\n",
    "\n",
    "# Define a range of alpha values to try for Elastic Net regression\n",
    "alphas = np.arange(0, 10, 0.25)\n",
    "\n",
    "# Initialize a list to store the scores\n",
    "scores = []\n",
    "\n",
    "# Iterate through the range of alpha values\n",
    "for i in alphas:\n",
    "    # Create an Elastic Net Regression model instance with the current alpha value\n",
    "    el = ElasticNet(alpha=i)\n",
    "    \n",
    "    # Perform cross-validation on the Elastic Net Regression model\n",
    "    results = cross_val_score(el, x, y, cv=kfold)\n",
    "    \n",
    "    # Calculate the mean of the cross-validation scores\n",
    "    score = results.mean()\n",
    "    \n",
    "    # Append the score to the scores list\n",
    "    scores.append(score)\n",
    "\n",
    "# Find the index of the best alpha value\n",
    "i_max = np.argmax(scores)\n",
    "\n",
    "# Print the best alpha value and the corresponding best score\n",
    "print(\"Best alpha: \", alphas[i_max])\n",
    "print(\"Best score: \", scores[i_max])"
   ]
  },
  {
   "cell_type": "code",
   "execution_count": 121,
   "id": "f179b3f9-39fa-4023-8805-3e34dfe8b11c",
   "metadata": {},
   "outputs": [
    {
     "name": "stdout",
     "output_type": "stream",
     "text": [
      "Best alpha:  9.5\n",
      "Best score:  0.657087435238261\n"
     ]
    }
   ],
   "source": [
    "# Ignore warnings\n",
    "import warnings\n",
    "warnings.simplefilter(\"ignore\")\n",
    "\n",
    "# Define a range of alpha values to try for Lasso regression\n",
    "alphas = np.arange(0, 10, 0.25)\n",
    "\n",
    "# Initialize a list to store the scores\n",
    "scores = []\n",
    "\n",
    "# Iterate through the range of alpha values\n",
    "for i in alphas:\n",
    "    # Create a Lasso Regression model instance with the current alpha value\n",
    "    lasso = Lasso(alpha=i)\n",
    "    \n",
    "    # Perform cross-validation on the Lasso Regression model\n",
    "    results = cross_val_score(lasso, x, y, cv=kfold)\n",
    "    \n",
    "    # Calculate the mean of the cross-validation scores\n",
    "    score = results.mean()\n",
    "    \n",
    "    # Append the score to the scores list\n",
    "    scores.append(score)\n",
    "\n",
    "# Find the index of the best alpha value\n",
    "i_max = np.argmax(scores)\n",
    "\n",
    "# Print the best alpha value and the corresponding best score\n",
    "print(\"Best alpha: \", alphas[i_max])\n",
    "print(\"Best score: \", scores[i_max])"
   ]
  },
  {
   "cell_type": "code",
   "execution_count": 111,
   "id": "114a1956-c411-4b83-9d24-539cbe2c8cbd",
   "metadata": {},
   "outputs": [
    {
     "name": "stdout",
     "output_type": "stream",
     "text": [
      "Best Parameters: {'alpha': 4.25}\n",
      "Best Score: -243700493.29235244\n",
      "Best alpha:  0.0\n",
      "Best l1_ratio:  0.0\n",
      "Best R-squared score:  0.6066065590942402\n"
     ]
    }
   ],
   "source": [
    "# Define a range of alpha values to try for Elastic Net regression\n",
    "alphas = np.arange(0, 10, 0.25)\n",
    "\n",
    "# Define a range of l1_ratio values to try for Elastic Net regression\n",
    "l1 = np.linspace(0, 1, 11)\n",
    "\n",
    "# Initialize a list to store the scores\n",
    "scores = []\n",
    "\n",
    "# Iterate through the ranges of alpha and l1_ratio\n",
    "for i in alphas:\n",
    "    for j in l1:\n",
    "        # Create an Elastic Net Regression model instance with the current alpha and l1_ratio\n",
    "        e1 = ElasticNet(alpha=i, l1_ratio=j)\n",
    "        \n",
    "        # Perform cross-validation on the Elastic Net Regression model\n",
    "        results = cross_val_score(e1, x, y, cv=kfold)\n",
    "        \n",
    "        # Calculate the mean R-squared score from the cross-validation results\n",
    "        r2 = results.mean()\n",
    "        \n",
    "        # Append the alpha, l1_ratio, and R-squared score to the scores list\n",
    "        scores.append([i, j, r2])\n",
    "        \n",
    "# Convert the scores list to a pandas DataFrame\n",
    "pd_scores = pd.DataFrame(scores, columns=['alpha', 'l1', 'r2'])\n",
    "\n",
    "# Sort the DataFrame by the R-squared score in descending order and select the first row\n",
    "best_model = pd_scores.sort_values(by='r2', ascending=False).iloc[0]\n",
    "\n",
    "# Print the best alpha, l1_ratio, and R-squared score\n",
    "print(\"Best alpha: \", best_model[0])\n",
    "print(\"Best l1_ratio: \", best_model[1])\n",
    "print(\"Best R-squared score: \", best_model[2])"
   ]
  },
  {
   "cell_type": "code",
   "execution_count": 113,
   "id": "cd93bea9-26da-4201-98bd-92144131a34e",
   "metadata": {},
   "outputs": [
    {
     "name": "stdout",
     "output_type": "stream",
     "text": [
      "Best Parameters: {'alpha': 4.25}\n",
      "Best Score: -243700493.29235244\n"
     ]
    }
   ],
   "source": [
    "# Read the CSV data\n",
    "df = pd.read_csv(\"Housing.csv\")\n",
    "\n",
    "# Encode categorical features using one-hot encoding\n",
    "dum_df = pd.get_dummies(df, drop_first=True)\n",
    "\n",
    "# Separate features (X) and target variable (y)\n",
    "x = dum_df.drop(['price'], axis=1)\n",
    "y = dum_df['price']\n",
    "\n",
    "# Define the parameter grid for the grid search\n",
    "alphas = np.arange(0, 10, 0.25)\n",
    "params = {'alpha': alphas}\n",
    "\n",
    "# Create a Ridge Regression model\n",
    "ridge = Ridge()\n",
    "\n",
    "# Perform grid search cross-validation\n",
    "gcv_r = GridSearchCV(ridge, param_grid=params, cv=kfold, scoring='neg_mean_squared_error')\n",
    "gcv_r.fit(x, y)\n",
    "\n",
    "# Print the best parameters and the best score\n",
    "print(\"Best Parameters:\", gcv_r.best_params_)\n",
    "print(\"Best Score:\", gcv_r.best_score_)"
   ]
  },
  {
   "cell_type": "code",
   "execution_count": 125,
   "id": "c2848fcb-5e05-4c16-9f1a-aea5b17c614f",
   "metadata": {},
   "outputs": [
    {
     "name": "stdout",
     "output_type": "stream",
     "text": [
      "Best Parameters: {'alpha': 1.0}\n",
      "Best Score: 0.6570821806267306\n"
     ]
    }
   ],
   "source": [
    "# Ignore warnings\n",
    "import warnings\n",
    "warnings.simplefilter(\"ignore\")\n",
    "\n",
    "# Read the CSV data\n",
    "df = pd.read_csv(\"Housing.csv\")\n",
    "\n",
    "# Encode categorical features using one-hot encoding\n",
    "dum_df = pd.get_dummies(df, drop_first=True)\n",
    "\n",
    "# Separate features (X) and target variable (y)\n",
    "x = dum_df.drop(['price'], axis=1)\n",
    "y = dum_df['price']\n",
    "\n",
    "# Create a Lasso Regression model\n",
    "lasso = Lasso()\n",
    "\n",
    "# Define the parameter grid for the grid search\n",
    "params = {'alpha': np.linspace(0.001, 1, 20)}\n",
    "\n",
    "# Perform grid search cross-validation\n",
    "gcv_l = GridSearchCV(lasso, param_grid=params, cv=kfold)\n",
    "gcv_l.fit(x, y)\n",
    "\n",
    "# Print the best parameters and the best score\n",
    "print(\"Best Parameters:\", gcv_l.best_params_)\n",
    "print(\"Best Score:\", gcv_l.best_score_)"
   ]
  },
  {
   "cell_type": "code",
   "execution_count": 126,
   "id": "13862e9b-cc41-4cf4-b29f-f5ae90a2b481",
   "metadata": {},
   "outputs": [
    {
     "name": "stdout",
     "output_type": "stream",
     "text": [
      "Best Parameters: {'alpha': 0.0}\n",
      "Best Score: 0.6570808836039296\n"
     ]
    }
   ],
   "source": [
    "# Ignore warnings\n",
    "import warnings\n",
    "warnings.simplefilter(\"ignore\")\n",
    "\n",
    "# Read the CSV data\n",
    "df = pd.read_csv(\"Housing.csv\")\n",
    "\n",
    "# Encode categorical features using one-hot encoding\n",
    "dum_df = pd.get_dummies(df, drop_first=True)\n",
    "\n",
    "# Separate features (X) and target variable (y)\n",
    "x = dum_df.drop(['price'], axis=1)\n",
    "y = dum_df['price']\n",
    "\n",
    "# Define the parameter grid for the grid search\n",
    "alphas = np.arange(0, 10, 0.25)\n",
    "params = {'alpha': alphas}\n",
    "\n",
    "# Create an Elastic Net Regression model\n",
    "el = ElasticNet()\n",
    "\n",
    "# Perform grid search cross-validation\n",
    "gcv_e = GridSearchCV(el, param_grid=params, cv=kfold)\n",
    "gcv_e.fit(x, y)\n",
    "\n",
    "# Print the best parameters and the best score\n",
    "print(\"Best Parameters:\", gcv_e.best_params_)\n",
    "print(\"Best Score:\", gcv_e.best_score_)\n",
    "\n",
    "# Save the grid search results to a CSV file\n",
    "pd_cv = pd.DataFrame(gcv_e.cv_results_)\n",
    "pd_cv.to_csv(\"GridSearch_Results.csv\", index=False)"
   ]
  },
  {
   "cell_type": "code",
   "execution_count": 127,
   "id": "97f77a8f-4660-4467-b24f-265352e961b6",
   "metadata": {},
   "outputs": [
    {
     "name": "stdout",
     "output_type": "stream",
     "text": [
      "Best Parameters: {'alpha': 0.05357894736842105, 'l1_ratio': 0.0}\n",
      "Best Score: 0.6066066097074024\n"
     ]
    }
   ],
   "source": [
    "# Ignore warnings\n",
    "import warnings\n",
    "warnings.simplefilter(\"ignore\")\n",
    "\n",
    "# Change directory to the dataset location\n",
    "os.chdir(r\"D:\\Datasets\")\n",
    "\n",
    "# Read the CSV data\n",
    "conc = pd.read_csv(\"Concrete_Data.csv\")\n",
    "\n",
    "# Separate features (X) and target variable (y)\n",
    "x = conc.drop(['Strength'], axis=1)\n",
    "y = conc['Strength']\n",
    "\n",
    "# Define the parameter grid for the grid search\n",
    "params = {\n",
    "    'alpha': np.linspace(0.001, 1, 20),\n",
    "    'l1_ratio': np.linspace(0, 1, 11)\n",
    "}\n",
    "\n",
    "# Create an Elastic Net Regression model\n",
    "el = ElasticNet()\n",
    "\n",
    "# Perform grid search cross-validation\n",
    "gcv_e = GridSearchCV(el, param_grid=params, cv=kfold)\n",
    "gcv_e.fit(x, y)\n",
    "\n",
    "# Print the best parameters and the best score\n",
    "print(\"Best Parameters:\", gcv_e.best_params_)\n",
    "print(\"Best Score:\", gcv_e.best_score_)\n",
    "\n",
    "# Save the grid search results to a CSV file\n",
    "pd_cv = pd.DataFrame(gcv_e.cv_results_)\n",
    "pd_cv.to_csv(\"GridSearch_Results.csv\", index=False)"
   ]
  },
  {
   "cell_type": "code",
   "execution_count": 128,
   "id": "a0a9b70b-8768-40b1-8b22-f92f82e7a59f",
   "metadata": {},
   "outputs": [
    {
     "name": "stdout",
     "output_type": "stream",
     "text": [
      "Best Parameters: {'alpha': 10.0}\n",
      "Best Score: 0.6066065800792033\n"
     ]
    }
   ],
   "source": [
    "# Ignore warnings\n",
    "import warnings\n",
    "warnings.simplefilter(\"ignore\")\n",
    "\n",
    "# Change directory to the dataset location\n",
    "os.chdir(r\"D:\\Datasets\")\n",
    "\n",
    "# Read the CSV data\n",
    "conc = pd.read_csv(\"Concrete_Data.csv\")\n",
    "\n",
    "# Separate features (X) and target variable (y)\n",
    "x = conc.drop(['Strength'], axis=1)\n",
    "y = conc['Strength']\n",
    "\n",
    "# Define the parameter grid for the grid search\n",
    "params = {\n",
    "    'alpha': np.linspace(0.001, 10, 20)\n",
    "}\n",
    "\n",
    "# Create a Ridge Regression model\n",
    "ridge = Ridge()\n",
    "\n",
    "# Perform grid search cross-validation\n",
    "gcv_r = GridSearchCV(ridge, param_grid=params, cv=kfold)\n",
    "gcv_r.fit(x, y)\n",
    "\n",
    "# Print the best parameters and the best score\n",
    "print(\"Best Parameters:\", gcv_r.best_params_)\n",
    "print(\"Best Score:\", gcv_r.best_score_)\n",
    "\n",
    "# Save the grid search results to a CSV file\n",
    "pd_cv = pd.DataFrame(gcv_r.cv_results_)\n",
    "pd_cv.to_csv(\"GridSearch_Results.csv\", index=False)"
   ]
  },
  {
   "cell_type": "code",
   "execution_count": 110,
   "id": "de8b4b11-22b2-4989-abf7-e26330a8147a",
   "metadata": {},
   "outputs": [
    {
     "name": "stdout",
     "output_type": "stream",
     "text": [
      "Best Parameters: {'alpha': 0.001, 'max_iter': 1000}\n",
      "Best Score: 0.6066064857714588\n"
     ]
    }
   ],
   "source": [
    "# Ignore warnings\n",
    "import warnings\n",
    "warnings.simplefilter(\"ignore\")\n",
    "\n",
    "# Change directory to the dataset location\n",
    "os.chdir(r\"D:\\Datasets\")\n",
    "\n",
    "# Read the CSV data\n",
    "conc = pd.read_csv(\"Concrete_Data.csv\")\n",
    "\n",
    "# Separate features (X) and target variable (y)\n",
    "x = conc.drop(['Strength'], axis=1)\n",
    "y = conc['Strength']\n",
    "\n",
    "# Create a Lasso Regression model\n",
    "lasso = Lasso()\n",
    "\n",
    "gcv_l = GridSearchCV(lasso,param_grid=params,cv=kfold)\n",
    "gcv_l.fit(x,y)\n",
    "\n",
    "# Print the best parameters and the best score\n",
    "print(\"Best Parameters:\", gcv_l.best_params_)\n",
    "print(\"Best Score:\", gcv_l.best_score_)\n",
    "\n",
    "# Save the grid search results to a CSV file\n",
    "pd_cv = pd.DataFrame(gcv_l.cv_results_)\n",
    "pd_cv.to_csv(\"GridSearch_Results.csv\", index=False)\n"
   ]
  },
  {
   "cell_type": "code",
   "execution_count": 109,
   "id": "766400e5-626d-465c-870f-fe09f39d78bd",
   "metadata": {},
   "outputs": [
    {
     "name": "stdout",
     "output_type": "stream",
     "text": [
      "[68.73876931 31.78900645 19.49352047 46.84974452 58.04413155 16.09636391\n",
      " 50.35237168 80.31308633 31.13698396 41.57074962 43.44491821 60.77326762\n",
      " 52.3709778  15.38705846]\n"
     ]
    }
   ],
   "source": [
    "# Inferencing\n",
    "# Get the best model from the GridSearchCV object\n",
    "best_model = gcv_r.best_estimator_\n",
    "\n",
    "# Load the test data\n",
    "tst = pd.read_csv(\"testConcrete.csv\")\n",
    "\n",
    "# Make predictions using the best model\n",
    "pred_str = best_model.predict(tst)\n",
    "\n",
    "# Print the predicted values\n",
    "print(pred_str)"
   ]
  },
  {
   "cell_type": "code",
   "execution_count": null,
   "id": "21054398-e2b1-48a0-8351-d77d6ae6292f",
   "metadata": {},
   "outputs": [],
   "source": []
  }
 ],
 "metadata": {
  "kernelspec": {
   "display_name": "Python 3 (ipykernel)",
   "language": "python",
   "name": "python3"
  },
  "language_info": {
   "codemirror_mode": {
    "name": "ipython",
    "version": 3
   },
   "file_extension": ".py",
   "mimetype": "text/x-python",
   "name": "python",
   "nbconvert_exporter": "python",
   "pygments_lexer": "ipython3",
   "version": "3.11.7"
  }
 },
 "nbformat": 4,
 "nbformat_minor": 5
}
