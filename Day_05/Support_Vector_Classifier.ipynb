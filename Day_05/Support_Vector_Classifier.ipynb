{
 "cells": [
  {
   "cell_type": "code",
   "execution_count": 4,
   "id": "4cdbb621-b25f-4024-a85a-8d91e731b6ee",
   "metadata": {},
   "outputs": [],
   "source": [
    "import pandas as pd\n",
    "import numpy as np\n",
    "from sklearn.svm import SVC\n",
    "from sklearn.linear_model import LogisticRegression,LinearRegression\n",
    "from sklearn.model_selection import train_test_split,GridSearchCV,RandomizedSearchCV,StratifiedKFold,cross_val_score\n",
    "from sklearn.metrics import confusion_matrix ,classification_report,accuracy_score,log_loss,roc_auc_score, roc_curve\n",
    "from sklearn.preprocessing import LabelEncoder,StandardScaler,MinMaxScaler\n",
    "import matplotlib.pyplot as plt\n",
    "import os \n",
    "from sklearn.pipeline import Pipeline\n",
    "from sklearn.neighbors import KNeighborsClassifier\n",
    "from sklearn.naive_bayes import BernoulliNB,GaussianNB\n",
    "from sklearn.preprocessing import OneHotEncoder\n",
    "from sklearn.compose import *\n",
    "import warnings\n",
    "warnings.simplefilter('ignore')\n",
    "os.chdir('D:/Datasets')"
   ]
  },
  {
   "cell_type": "code",
   "execution_count": 5,
   "id": "8c853436-c2af-48a8-a235-4424fc7f39c6",
   "metadata": {},
   "outputs": [],
   "source": [
    "kyp =pd.read_csv('Kyphosis.csv')\n",
    "y = kyp['Kyphosis']\n",
    "X = kyp.drop('Kyphosis',axis=1)\n",
    "\n",
    "\n",
    "\n",
    "X_train, X_test, y_train, y_test = train_test_split(X, y,\n",
    "                                   test_size=0.3,\n",
    "                                   random_state=24,stratify=y)   # stratify is dividing the dataset into equally like 60 and 40 automatically\n"
   ]
  },
  {
   "cell_type": "code",
   "execution_count": 14,
   "id": "29cda328-b7f0-498e-9b3a-7f2a4f9d8ece",
   "metadata": {},
   "outputs": [
    {
     "name": "stdout",
     "output_type": "stream",
     "text": [
      "0.76\n"
     ]
    }
   ],
   "source": [
    "# Initialize a Support Vector Classifier (SVC) with a linear kernel and C=3.5\n",
    "svc = SVC(\n",
    "    # Kernel type\n",
    "    kernel='linear',\n",
    "    # Regularization parameter\n",
    "    C=3.5\n",
    ")\n",
    "\n",
    "# Fit the SVC model to the training data\n",
    "svc.fit(\n",
    "    # Training features\n",
    "    X_train,\n",
    "    # Training target\n",
    "    y_train\n",
    ")\n",
    "\n",
    "# Use the trained model to make predictions on the test data\n",
    "y_pred = svc.predict(\n",
    "    # Test features\n",
    "    X_test\n",
    ")\n",
    "\n",
    "# Calculate the accuracy of the predictions\n",
    "accuracy = accuracy_score(\n",
    "    # Actual target values\n",
    "    y_test,\n",
    "    # Predicted target values\n",
    "    y_pred\n",
    ")\n",
    "\n",
    "# Print the accuracy\n",
    "print(accuracy)\n"
   ]
  },
  {
   "cell_type": "code",
   "execution_count": 15,
   "id": "0d3435c1-7f17-42c7-9280-2c69d3a0af52",
   "metadata": {},
   "outputs": [
    {
     "name": "stdout",
     "output_type": "stream",
     "text": [
      "0.8\n"
     ]
    }
   ],
   "source": [
    "# Initialize a Support Vector Classifier (SVC) with an RBF kernel, C=1, and gamma=3\n",
    "svc = SVC(\n",
    "    # Kernel type\n",
    "    kernel='rbf',\n",
    "    # Regularization parameter\n",
    "    C=1,\n",
    "    # Gamma parameter\n",
    "    gamma=3\n",
    ")\n",
    "\n",
    "# Fit the SVC model to the training data\n",
    "svc.fit(\n",
    "    # Training features\n",
    "    X_train,\n",
    "    # Training target\n",
    "    y_train\n",
    ")\n",
    "\n",
    "# Use the trained model to make predictions on the test data\n",
    "y_pred = svc.predict(\n",
    "    # Test features\n",
    "    X_test\n",
    ")\n",
    "\n",
    "# Calculate the accuracy of the predictions\n",
    "accuracy = accuracy_score(\n",
    "    # Actual target values\n",
    "    y_test,\n",
    "    # Predicted target values\n",
    "    y_pred\n",
    ")\n",
    "\n",
    "# Print the accuracy\n",
    "print(accuracy)"
   ]
  },
  {
   "cell_type": "code",
   "execution_count": 17,
   "id": "770cced5-7cc6-4799-b2d5-1121df194e5e",
   "metadata": {},
   "outputs": [
    {
     "name": "stdout",
     "output_type": "stream",
     "text": [
      "{'KNN__n_neighbors': 9, 'SCL': MinMaxScaler()}\n",
      "-0.3541342613432673\n"
     ]
    }
   ],
   "source": [
    "# Import the StratifiedKFold class from sklearn.model_selection\n",
    "from sklearn.model_selection import StratifiedKFold\n",
    "\n",
    "# Initialize a Support Vector Classifier (SVC)\n",
    "svm = SVC()\n",
    "\n",
    "# Initialize a StandardScaler\n",
    "std_scaler = StandardScaler()\n",
    "\n",
    "# Initialize a Min-Max Scaler\n",
    "min_max_scalar = MinMaxScaler()\n",
    "\n",
    "# Initialize a K-Nearest Neighbors Classifier\n",
    "knn = KNeighborsClassifier()\n",
    "\n",
    "# Create a Pipeline with the KNN Classifier and the Scalers\n",
    "pipe = Pipeline([('SCL', None), ('KNN', knn)])\n",
    "\n",
    "# Define the grid of hyperparameters for the KNN Classifier\n",
    "param = {\n",
    "    # Number of neighbors for the KNN Classifier\n",
    "    'KNN__n_neighbors': np.arange(1, 17),\n",
    "    # Scaler to use\n",
    "    'SCL': [None, std_scaler, min_max_scalar]\n",
    "}\n",
    "\n",
    "# Create a Stratified K-Fold cross-validation object\n",
    "Kfold = StratifiedKFold(\n",
    "    # Number of folds for the cross-validation\n",
    "    n_splits=5,\n",
    "    # Shuffle the data before splitting it into folds\n",
    "    shuffle=True,\n",
    "    # Random seed for shuffling\n",
    "    random_state=24\n",
    ")\n",
    "\n",
    "# Create a GridSearchCV object\n",
    "gcv = GridSearchCV(\n",
    "    # Model to be tuned\n",
    "    pipe,\n",
    "    # Grid of hyperparameters\n",
    "    param_grid=param,\n",
    "    # Cross-validation object\n",
    "    cv=Kfold,\n",
    "    # Metric to use for evaluating the model\n",
    "    scoring='neg_log_loss'\n",
    ")\n",
    "\n",
    "# Fit the grid search model to the data\n",
    "gcv.fit(X, y)\n",
    "\n",
    "# Print the best combination of hyperparameters found during the grid search\n",
    "print(gcv.best_params_)\n",
    "\n",
    "# Print the best score (i.e., the lowest negative log loss) found during the grid search\n",
    "print(gcv.best_score_)"
   ]
  },
  {
   "cell_type": "markdown",
   "id": "29cd82bc-0277-4719-89a7-340c7b06f363",
   "metadata": {},
   "source": [
    "# SVC using StratifiedKFold"
   ]
  },
  {
   "cell_type": "code",
   "execution_count": 18,
   "id": "40cec637-13a5-478d-9a6d-1e511e9695a7",
   "metadata": {},
   "outputs": [
    {
     "name": "stdout",
     "output_type": "stream",
     "text": [
      "{'C': 0.8966666666666667, 'gamma': 0.01, 'kernel': 'rbf'}\n",
      "0.8147058823529412\n"
     ]
    }
   ],
   "source": [
    "# Import the StratifiedKFold class from sklearn.model_selection\n",
    "from sklearn.model_selection import StratifiedKFold\n",
    "\n",
    "# Initialize a Support Vector Classifier (SVC)\n",
    "svm = SVC()\n",
    "\n",
    "# Create a Stratified K-Fold cross-validation object\n",
    "Kfold = StratifiedKFold(\n",
    "    # Number of folds for the cross-validation\n",
    "    n_splits=5,\n",
    "    # Shuffle the data before splitting it into folds\n",
    "    shuffle=True,\n",
    "    # Random seed for shuffling\n",
    "    random_state=24\n",
    ")\n",
    "\n",
    "# Define the grid of hyperparameters for the SVC\n",
    "param = {\n",
    "    # Kernel type for the SVC\n",
    "    'kernel': ['rbf', 'linear'],\n",
    "    # Regularization parameter (C)\n",
    "    'C': np.linspace(0.01, 4, 10),\n",
    "    # Gamma parameter\n",
    "    'gamma': np.linspace(0.01, 4, 10)\n",
    "}\n",
    "\n",
    "# Create a GridSearchCV object\n",
    "gcv = GridSearchCV(\n",
    "    # Model to be tuned\n",
    "    svm,\n",
    "    # Grid of hyperparameters\n",
    "    param_grid=param,\n",
    "    # Cross-validation object\n",
    "    cv=Kfold\n",
    ")\n",
    "\n",
    "# Fit the grid search model to the data\n",
    "gcv.fit(X, y)\n",
    "\n",
    "# Print the best combination of hyperparameters found during the grid search\n",
    "print(gcv.best_params_)\n",
    "\n",
    "# Print the best score (i.e., the highest accuracy) found during the grid search\n",
    "print(gcv.best_score_)"
   ]
  },
  {
   "cell_type": "markdown",
   "id": "71dd1088-e977-4176-a24b-6fc697c401ee",
   "metadata": {},
   "source": [
    "# using std_scaler scaling and min_max_scalar"
   ]
  },
  {
   "cell_type": "code",
   "execution_count": 20,
   "id": "32d44acc-d548-4c56-8a00-dc67ae1d3636",
   "metadata": {},
   "outputs": [
    {
     "name": "stdout",
     "output_type": "stream",
     "text": [
      "{'SCL': StandardScaler(), 'SVM__C': 1.7833333333333334, 'SVM__gamma': 0.01, 'SVM__kernel': 'linear'}\n",
      "0.8154411764705882\n"
     ]
    }
   ],
   "source": [
    "# Import the StratifiedKFold class from sklearn.model_selection\n",
    "from sklearn.model_selection import StratifiedKFold\n",
    "\n",
    "# Initialize a Support Vector Classifier (SVC)\n",
    "svm = SVC()\n",
    "\n",
    "# Initialize a StandardScaler\n",
    "std_scaler = StandardScaler()\n",
    "\n",
    "# Initialize a Min-Max Scaler\n",
    "min_max_scalar = MinMaxScaler()\n",
    "\n",
    "# Initialize a K-Nearest Neighbors Classifier\n",
    "knn = KNeighborsClassifier()\n",
    "\n",
    "# Create a Pipeline with the SVC and the Scalers\n",
    "pipe = Pipeline([('SCL', None), ('SVM', svm)])\n",
    "\n",
    "# Define the grid of hyperparameters for the SVC\n",
    "param = {\n",
    "    # Kernel type for the SVC\n",
    "    'SVM__kernel': ['rbf', 'linear'],\n",
    "    # Regularization parameter (C) for the SVC\n",
    "    'SVM__C': np.linspace(0.01, 4, 10),\n",
    "    # Gamma parameter for the SVC\n",
    "    'SVM__gamma': np.linspace(0.01, 4, 10),\n",
    "    # Scaler to use\n",
    "    \"SCL\": [None, std_scaler, min_max_scalar]\n",
    "}\n",
    "\n",
    "# Create a Stratified K-Fold cross-validation object\n",
    "Kfold = StratifiedKFold(\n",
    "    # Number of folds for the cross-validation\n",
    "    n_splits=5,\n",
    "    # Shuffle the data before splitting it into folds\n",
    "    shuffle=True,\n",
    "    # Random seed for shuffling\n",
    "    random_state=24\n",
    ")\n",
    "\n",
    "# Create a GridSearchCV object\n",
    "gcv = GridSearchCV(\n",
    "    # Model to be tuned\n",
    "    pipe,\n",
    "    # Grid of hyperparameters\n",
    "    param_grid=param,\n",
    "    # Cross-validation object\n",
    "    cv=Kfold\n",
    ")\n",
    "\n",
    "# Fit the grid search model to the data\n",
    "gcv.fit(X, y)\n",
    "\n",
    "# Print the best combination of hyperparameters found during the grid search\n",
    "print(gcv.best_params_)\n",
    "\n",
    "# Print the best score (i.e., the highest accuracy) found during the grid search\n",
    "print(gcv.best_score_)"
   ]
  },
  {
   "cell_type": "code",
   "execution_count": null,
   "id": "8b7ba911-2b2a-485e-90ca-46d6403a1977",
   "metadata": {},
   "outputs": [],
   "source": []
  }
 ],
 "metadata": {
  "kernelspec": {
   "display_name": "Python 3 (ipykernel)",
   "language": "python",
   "name": "python3"
  },
  "language_info": {
   "codemirror_mode": {
    "name": "ipython",
    "version": 3
   },
   "file_extension": ".py",
   "mimetype": "text/x-python",
   "name": "python",
   "nbconvert_exporter": "python",
   "pygments_lexer": "ipython3",
   "version": "3.11.7"
  }
 },
 "nbformat": 4,
 "nbformat_minor": 5
}
